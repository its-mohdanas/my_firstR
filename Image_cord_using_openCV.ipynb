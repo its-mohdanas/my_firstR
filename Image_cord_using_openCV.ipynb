{
 "cells": [
  {
   "cell_type": "markdown",
   "id": "183f37a2",
   "metadata": {},
   "source": [
    "# By MOHD ANAS"
   ]
  },
  {
   "cell_type": "code",
   "execution_count": 25,
   "id": "cb0c763f",
   "metadata": {},
   "outputs": [],
   "source": [
    "import cv2"
   ]
  },
  {
   "cell_type": "code",
   "execution_count": 26,
   "id": "10538bb2",
   "metadata": {},
   "outputs": [],
   "source": [
    "#Function to display the co-ordinates of the cliked point in images\n",
    "def click_event(event, x, y, flags, params):\n",
    "    #checking for left mouse clicks\n",
    "    if event==cv2.EVENT_LBUTTONDOWN:\n",
    "        print(x, y) #?\n",
    "        \n",
    "        \n",
    "        #Now, display co-ordinates on image itself\n",
    "        font = cv2.FONT_HERSHEY_SIMPLEX\n",
    "        cv2.putText(img, str(x) + ',' + str(y), (x, y), font, 1, (255, 0, 0), 2)\n",
    "        cv2.imshow('image', img)\n",
    "        \n",
    "        #For Mouse right clike\n",
    "\n",
    "    if event == cv2.EVENT_RBUTTONDOWN:\n",
    "        print(x, y) #????\n",
    "    \n",
    "        #Display co. on the image\n",
    "        font = cv2.FONT_HERSHEY_SIMPLEX\n",
    "        b = img[y, x, 0]\n",
    "        g = img[y, x, 1]\n",
    "        r = img[y, x, 2]\n",
    "        cv2.putText(img, str(b) + ',' + str(g) + ',' + str(r), (x, y), font, 1, (225, 225, 0), 2)\n",
    "        cv2.imshow('image', img)"
   ]
  },
  {
   "cell_type": "markdown",
   "id": "7e79d76b",
   "metadata": {},
   "source": [
    "### Driver code"
   ]
  },
  {
   "cell_type": "code",
   "execution_count": null,
   "id": "2a500057",
   "metadata": {},
   "outputs": [
    {
     "name": "stdout",
     "output_type": "stream",
     "text": [
      "[[[ 93  82 228]\n",
      "  [ 92  82 226]\n",
      "  [ 91  82 226]\n",
      "  ...\n",
      "  [103 123 164]\n",
      "  [101 123 165]\n",
      "  [101 123 165]]\n",
      "\n",
      " [[ 88  81 216]\n",
      "  [ 87  80 215]\n",
      "  [ 86  79 214]\n",
      "  ...\n",
      "  [103 123 164]\n",
      "  [101 123 164]\n",
      "  [101 123 165]]\n",
      "\n",
      " [[ 85  83 202]\n",
      "  [ 88  86 205]\n",
      "  [ 90  88 207]\n",
      "  ...\n",
      "  [103 124 162]\n",
      "  [101 123 164]\n",
      "  [101 123 164]]\n",
      "\n",
      " ...\n",
      "\n",
      " [[118 102  89]\n",
      "  [107  91  78]\n",
      "  [ 94  78  65]\n",
      "  ...\n",
      "  [117  97  86]\n",
      "  [129 109  98]\n",
      "  [125 103  92]]\n",
      "\n",
      " [[110  94  81]\n",
      "  [104  88  75]\n",
      "  [ 96  80  67]\n",
      "  ...\n",
      "  [121 101  90]\n",
      "  [140 118 107]\n",
      "  [143 121 110]]\n",
      "\n",
      " [[106  90  77]\n",
      "  [104  88  75]\n",
      "  [ 99  83  70]\n",
      "  ...\n",
      "  [118  96  85]\n",
      "  [135 113 102]\n",
      "  [140 118 107]]]\n",
      "79 55\n",
      "213 124\n",
      "154 181\n",
      "359 212\n",
      "459 99\n",
      "414 251\n",
      "151 324\n",
      "169 394\n",
      "345 449\n",
      "452 148\n",
      "526 342\n",
      "102 220\n",
      "93 255\n",
      "92 298\n",
      "89 335\n",
      "448 165\n",
      "510 282\n",
      "262 50\n"
     ]
    }
   ],
   "source": [
    "if __name__ == \"__main__\":\n",
    "    img = cv2.imread('MOHD_ANAS.jpeg', 1) #reading image\n",
    "    cv2.imshow('image', img)       #display image\n",
    "    print(img)\n",
    "    cv2.setMouseCallback('image', click_event) #setting mouse hedler and calling click_event() function\n",
    "    \n",
    "    cv2.waitKey(0)  # wait for a key to be pressed to exit\n",
    "    \n",
    "    cv2.destroyAllWindows()"
   ]
  },
  {
   "cell_type": "code",
   "execution_count": null,
   "id": "fca4bf18",
   "metadata": {},
   "outputs": [],
   "source": []
  },
  {
   "cell_type": "code",
   "execution_count": null,
   "id": "9e70c4a1",
   "metadata": {},
   "outputs": [],
   "source": []
  }
 ],
 "metadata": {
  "kernelspec": {
   "display_name": "Python 3",
   "language": "python",
   "name": "python3"
  },
  "language_info": {
   "codemirror_mode": {
    "name": "ipython",
    "version": 3
   },
   "file_extension": ".py",
   "mimetype": "text/x-python",
   "name": "python",
   "nbconvert_exporter": "python",
   "pygments_lexer": "ipython3",
   "version": "3.8.8"
  }
 },
 "nbformat": 4,
 "nbformat_minor": 5
}
